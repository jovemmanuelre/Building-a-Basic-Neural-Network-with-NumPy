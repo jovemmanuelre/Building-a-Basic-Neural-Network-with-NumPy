{
 "cells": [
  {
   "cell_type": "code",
   "execution_count": 1,
   "metadata": {},
   "outputs": [],
   "source": [
    "import numpy as np\n",
    "# Math operations\n",
    "import matplotlib.pyplot as plt\n",
    "# Presentable graphs, optional\n",
    "from mpl_toolkits.mplot3d import Axes3D\n",
    "# Presentable 3D Graphs, optional"
   ]
  },
  {
   "cell_type": "code",
   "execution_count": 2,
   "metadata": {
    "scrolled": false
   },
   "outputs": [
    {
     "name": "stdout",
     "output_type": "stream",
     "text": [
      "(1000, 2)\n"
     ]
    }
   ],
   "source": [
    "observations = 1000\n",
    "#Here I declare a variable containing the size of the training set.\n",
    "\n",
    "xs = np.random.uniform(low=-10, high=10, size=(observations,1))\n",
    "zs = np.random.uniform(-10, 10, (observations,1))\n",
    "# The size should be n x k, where n is number of observations and k is number of variables.\n",
    "\n",
    "inputs = np.column_stack((xs,zs))\n",
    "# 'np.column_stack' stacks the observations into a matrix, which results in a matrix with dimensions 1000 x 2.\n",
    "# I did this because I want to make sure that I can multiply x with w, because the linear model (y=xw+b) relies on that operation.\n",
    "print (inputs.shape)\n",
    "# Checked n x k , where n should be the number of observations and k is the number of variables."
   ]
  },
  {
   "cell_type": "code",
   "execution_count": 3,
   "metadata": {},
   "outputs": [
    {
     "name": "stdout",
     "output_type": "stream",
     "text": [
      "(1000, 1)\n"
     ]
    }
   ],
   "source": [
    "noise = np.random.uniform(-1, 1, (observations,1))\n",
    "# I introduced the noise to randomize my data a bit. \n",
    "# Real data always contains noise - it's never perfect - so introducing some noise makes the data a bit more random.\n",
    "\n",
    "targets = 4*xs - 6*zs + 10 + noise\n",
    "# A two-variable linear model, which is completely arbitrarily chosen.\n",
    "# The Weights are 4 and -6 and the Bias is 10. \n",
    "# My goal is that my ML algorithm to learn that this is the function.\n",
    "\n",
    "print (targets.shape)\n",
    "# Checked n x m, where m should be the number of output variables."
   ]
  },
  {
   "cell_type": "code",
   "execution_count": 4,
   "metadata": {},
   "outputs": [
    {
     "data": {
      "image/png": "[encoded data removed]",
      "text/plain": [
       "<Figure size 432x288 with 1 Axes>"
      ]
     },
     "metadata": {
      "needs_background": "light"
     },
     "output_type": "display_data"
    }
   ],
   "source": [
    "targets = targets.reshape(observations,)\n",
    "xs = xs.reshape(observations,)\n",
    "zs = zs.reshape(observations,)\n",
    "# I reshaped the targets in order to use the 3D Plot.\n",
    "\n",
    "fig = plt.figure()\n",
    "ax = fig.add_subplot(111, projection='3d')\n",
    "# A method to create the 3D Plot\n",
    "ax.plot(xs, zs, targets)\n",
    "ax.set_xlabel('xs')\n",
    "ax.set_ylabel('zs')\n",
    "ax.set_zlabel('Targets')\n",
    "ax.view_init(azim=100)\n",
    "plt.show()\n",
    "# I wanted to see whether there is a strong trend that the model should learn to reproduce.\n",
    "\n",
    "targets = targets.reshape(observations,1)\n",
    "xs = xs.reshape(observations,1)\n",
    "zs = zs.reshape(observations,1)\n",
    "# I really didn't need to use the 3D Plot, so I reshaped the targets and the variables back."
   ]
  },
  {
   "cell_type": "code",
   "execution_count": 5,
   "metadata": {},
   "outputs": [
    {
     "name": "stdout",
     "output_type": "stream",
     "text": [
      "[[0.00477031]\n",
      " [0.04712066]]\n",
      "[0.07519533]\n"
     ]
    }
   ],
   "source": [
    "init_range = 0.1\n",
    "# The gradient descent starts from an arbitrary number, but I don't want to have this. Rather, I aim to randomly select some small initial weights.\n",
    "# The init_range determines the interval where the initial weights and biases will be picked randomly. In this case, it is [-0.1, 0.1].\n",
    "# Here the initial random weights and biases will be picked from -0.1 to 0.1\n",
    "weights = np.random.uniform(low=-init_range, high=init_range, size=(2, 1))\n",
    "# Here I generated the weights randomly using this code.\n",
    "# Weights are of size k x m, where k is the number of input variables and m is the number of output variables\n",
    "# In this exercise, the weights matrix is 2x1 since there are 2 variables (x and z) and 1 output (y)\n",
    "biases = np.random.uniform(low=-init_range, high=init_range, size=1)\n",
    "# Here I generated the size of the biases randomly using this code.\n",
    "# In ML, there are as many biases as there are outputs. \n",
    "# So in this exercise, there is only 1 bias as there is only 1 output.\n",
    "# The bias is a scalar.\n",
    "\n",
    "print (weights)\n",
    "print (biases)"
   ]
  },
  {
   "cell_type": "code",
   "execution_count": 6,
   "metadata": {},
   "outputs": [],
   "source": [
    "learning_rate = 0.02\n",
    "# The learning rate determines the speed of the minimization of the Loss Function of the ML Algorithm.\n",
    "# Gradient Descent depends on the learning rate.\n",
    "# I chose this learning rate. It must not be too high that the GD iterates forever and too low that GD oscillates forever, never reaching the global minimum loss."
   ]
  },
  {
   "cell_type": "code",
   "execution_count": 7,
   "metadata": {
    "scrolled": true
   },
   "outputs": [
    {
     "name": "stdout",
     "output_type": "stream",
     "text": [
      "916.9835041255902\n",
      "138.2318801160056\n",
      "55.23295933839509\n",
      "44.96105423180897\n",
      "42.34970849165078\n",
      "40.59950903720254\n",
      "38.997544208063424\n",
      "37.46699047326187\n",
      "35.99760935816278\n",
      "34.58621346499512\n",
      "33.23043673398844\n",
      "31.928079207391246\n",
      "30.677035248365936\n",
      "29.475282985371408\n",
      "28.32088029386025\n",
      "27.211961578738723\n",
      "26.14673475112295\n",
      "25.123478331322534\n",
      "24.140538666718342\n",
      "23.196327259336403\n",
      "22.289318198725166\n",
      "21.418045695979266\n",
      "20.581101714924085\n",
      "19.777133696632557\n",
      "19.004842373597207\n",
      "18.262979670024528\n",
      "17.55034668485896\n",
      "16.865791754276405\n",
      "16.208208590516406\n",
      "15.576534494045285\n",
      "14.969748636160622\n",
      "14.386870409262075\n",
      "13.826957842122187\n",
      "13.289106077596156\n",
      "12.772445910310616\n",
      "12.276142381968105\n",
      "11.799393431997101\n",
      "11.341428601367083\n",
      "10.90150778747387\n",
      "10.478920048082978\n",
      "10.072982452398202\n",
      "9.68303897739854\n",
      "9.308459447659969\n",
      "8.948638516948675\n",
      "8.60299468994002\n",
      "8.270969382482173\n",
      "7.952026018885763\n",
      "7.64564916478072\n",
      "7.351343694138976\n",
      "7.068633989116803\n",
      "6.797063171423723\n",
      "6.536192363975844\n",
      "6.285599981640338\n",
      "6.044881049924956\n",
      "5.813646550511416\n",
      "5.591522792575128\n",
      "5.378150808875157\n",
      "5.173185775638498\n",
      "4.976296455301217\n",
      "4.787164661205796\n",
      "4.605484743389669\n",
      "4.430963094633862\n",
      "4.263317675973614\n",
      "4.102277560904019\n",
      "3.94758249754421\n",
      "3.7989824880524603\n",
      "3.6562373846124867\n",
      "3.519116501338123\n",
      "3.38739824146906\n",
      "3.260869739255294\n",
      "3.139326515951458\n",
      "3.022572149365114\n",
      "2.9104179564250345\n",
      "2.802682688256377\n",
      "2.699192237270094\n",
      "2.5997793557930806\n",
      "2.5042833857844804\n",
      "2.4125499992012527\n",
      "2.324430948593463\n",
      "2.2397838275262254\n",
      "2.1584718404411287\n",
      "2.0803635815852215\n",
      "2.005332822650305\n",
      "1.9332583087793\n",
      "1.8640235626100992\n",
      "1.7975166960401379\n",
      "1.7336302294075494\n",
      "1.6722609177966408\n",
      "1.613309584187034\n",
      "1.556680959176784\n",
      "1.5022835270204975\n",
      "1.4500293777335884\n",
      "1.399834065023722\n",
      "1.3516164698198043\n",
      "1.3052986691779955\n",
      "1.2608058103528825\n",
      "1.2180659898303032\n",
      "1.1770101371263373\n",
      "1.1375719031646565\n",
      "1.0996875530518626\n"
     ]
    }
   ],
   "source": [
    "# The ML Algorithm\n",
    "for i in range (100):\n",
    "    \n",
    "    outputs = np.dot(inputs,weights) + biases\n",
    "    # This is the linear model: y = xw + b equation\n",
    "    # I used Numpy to multiply matrices using the Dot Method.\n",
    "    deltas = outputs - targets\n",
    "    # Here, 'deltas' records the difference between outputs and targets, where deltas is 1000 x 1.\n",
    "    # 'deltas' is a pythonic 1000x1 array.\n",
    "    # This is the Error of the ML Algorithm.\n",
    "        \n",
    "    loss = np.sum(deltas ** 2) / 2 / observations\n",
    "    # Calculates the loss function that compares the outputs to the targets.\n",
    "    # I used the L2-norm loss because this is a Regression. \n",
    "    # I divided it by 2 to get the elegant Update Rules from the Gradient Descent.\n",
    "    # I divided it by the number of observations to get the Cost Function, which is the average loss per observation.\n",
    "    # I adjusted the loss instead of the learning rate. This makes the learning of the ML independent of the number of observations.\n",
    "    \n",
    "    print (loss)\n",
    "    # I decided to print the loss function at each step so I can analyze whether it is decreasing as desired and my ML algorithm is learning.\n",
    "    \n",
    "    deltas_scaled = deltas / observations\n",
    "    # This is another way to make the algorithm more universal.\n",
    "   \n",
    "    weights = weights - learning_rate * np.dot(inputs.T,deltas_scaled)\n",
    "    # The weights are 2x1, learning rate is 1x1 (scalar), inputs are 1000x2, and deltas_scaled are 1000x1\n",
    "    # '.T' is a method to transform matrices and perform the desired operation\n",
    "    biases = biases - learning_rate * np.sum(deltas_scaled)\n",
    "    # I transformed the inputs for the operation to proceed\n",
    "    # The weights are updated in a linear algebraic way (a matrix minus another matrix).\n",
    "    # I updated the weights and the biases following the gradient descent methodology."
   ]
  },
  {
   "cell_type": "code",
   "execution_count": 8,
   "metadata": {},
   "outputs": [
    {
     "name": "stdout",
     "output_type": "stream",
     "text": [
      "[[ 3.98195218]\n",
      " [-5.99577307]] [8.6434976]\n"
     ]
    }
   ],
   "source": [
    "print (weights, biases)\n",
    "# The bias improves as the number of iterations increases."
   ]
  },
  {
   "cell_type": "code",
   "execution_count": 10,
   "metadata": {},
   "outputs": [
    {
     "data": {
      "image/png": "[encoded data removed]",
      "text/plain": [
       "<Figure size 432x288 with 1 Axes>"
      ]
     },
     "metadata": {
      "needs_background": "light"
     },
     "output_type": "display_data"
    }
   ],
   "source": [
    "plt.plot(outputs, targets)\n",
    "plt.xlabel('outputs')\n",
    "plt.ylabel('targets')\n",
    "plt.show()\n",
    "# While this is not needed and may not be possible in other problems, I decided to plot the outputs and targets to check if they have a linear relationship.\n",
    "# The closer the plot is to a 45 degree line, the closer target and output values are."
   ]
  }
 ],
 "metadata": {
  "anaconda-cloud": {},
  "kernelspec": {
   "display_name": "Python 3 (ipykernel)",
   "language": "python",
   "name": "python3"
  },
  "language_info": {
   "codemirror_mode": {
    "name": "ipython",
    "version": 3
   },
   "file_extension": ".py",
   "mimetype": "text/x-python",
   "name": "python",
   "nbconvert_exporter": "python",
   "pygments_lexer": "ipython3",
   "version": "3.7.11"
  }
 },
 "nbformat": 4,
 "nbformat_minor": 1
}
